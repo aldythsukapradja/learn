{
 "cells": [
  {
   "cell_type": "markdown",
   "metadata": {},
   "source": [
    "# Workshop: A Tour of Markdown for Notebooks"
   ]
  },
  {
   "cell_type": "markdown",
   "metadata": {},
   "source": [
    "---\n",
    "## 1. Objectives"
   ]
  },
  {
   "cell_type": "markdown",
   "metadata": {},
   "source": [
    "The purpose of this workshop is to demonstrate the various Markdown elements that can be used to annotate a notebook. \n",
    "\n",
    "A carefully annotated notebook helps document your work and is particularly useful for picking up where you left off after a break.  \n",
    "\n",
    "Extensive use of Markdown is also good practice when sharing notebooks with colleagues.  \n",
    "\n",
    "This document is a notebook (it has a `.ipynb` extension) containing only Markdown cells; it provides a tour of the features for adding rich annotation to your notebooks, including:  \n",
    "\n",
    "- Headings  \n",
    "\n",
    "- Emphasis with bold and italics  \n",
    "\n",
    "- Blockquotes  \n",
    "\n",
    "- Lists  \n",
    "\n",
    "- Code snippets  \n",
    "\n",
    "- Links to webpages and email addresses  \n",
    "\n",
    "- Embedding external webpages  \n",
    "\n",
    "- Embedding Microsoft Office documents from OneDrive storage  \n",
    "\n",
    "- Images  \n",
    "\n",
    "- Tables   \n",
    "\n",
    "- Equations"
   ]
  },
  {
   "cell_type": "markdown",
   "metadata": {},
   "source": [
    "---\n",
    "## 2. A Tour of Markdown Syntax  "
   ]
  },
  {
   "cell_type": "markdown",
   "metadata": {},
   "source": [
    "\n",
    "The following sections provide a tour of Markdown, each demonstrating a particular feature of the syntax.\n",
    "\n",
    "Study each example by toggling back and forth between preview and editable views of the Markdown as follows:\n",
    "\n",
    "#### View and edit Markdown\n",
    "\n",
    "To view and edit the Markdown formatting in a cell do one of the following:  \n",
    "> \n",
    "> - Click inside a cell to make it active, then click the *Edit Cell* icon in the cell toolbar, or  \n",
    "> \n",
    "> - Click inside a cell to make it active, then press **return** on your keyboard, or  \n",
    "> \n",
    "> - Double-click inside a cell  \n",
    ">\n",
    "the cell should now display editable Markdown.  \n",
    "  \n",
    "#### Revert to Markdown preview\n",
    "\n",
    "To revert back to the formatted preview do one of the following:  \n",
    "\n",
    ">  - Click the *Stop Editing Cell* icon in the cell toolbar, or  \n",
    "> \n",
    "> - Press **esc** on your keyboard\n",
    "> \n",
    "\n",
    "the cell should now display a rendered Markdown preview.\n",
    "\n",
    "Try it now, click inside this cell and use **return** and **esc** on your keyboard.\n",
    "\n",
    "#### Making changes  \n",
    "\n",
    "As you work through the tour, try to make your own edits and preview the effect of your changes.  \n",
    "\n",
    "If you make a change that you don't want to keep, you can undo it using the *Edit > Undo* menu option or the keyboard shortcut **Command+Z** (macOS) or **Ctrl+Z** (Windows).  \n",
    "\n",
    "#### Saving changes\n",
    "\n",
    "If you want to keep your changes use the *File > Save* menu option or the keyboard shortcut **Command+S** (macOS) or **Ctrl+S** (Windows).  "
   ]
  },
  {
   "cell_type": "markdown",
   "metadata": {},
   "source": [
    "#### Comments \n",
    "\n",
    "In edit mode, single or multiple lines of Markdown text can be commented out using a HTML comment tag as follows:\n",
    "\n",
    "`<!--This text is a comment. Comments are not displayed in the Markdown preview.-->`  \n",
    "\n",
    "<!-- Here is some hidden text on a single line. -->\n",
    "\n",
    "<!-- \n",
    "Here is some more hidden text\n",
    "over multiple\n",
    "lines.\n",
    "-->\n",
    "\n",
    "Commented Markdown is not displayed in the preview, which makes this a convenient way to hide parts of a Markdown cell or document without deleting the text."
   ]
  },
  {
   "cell_type": "markdown",
   "metadata": {},
   "source": [
    "---\n",
    "## 3. Headings"
   ]
  },
  {
   "cell_type": "markdown",
   "metadata": {},
   "source": [
    "#### Cell 3.1 Headings\n",
    "\n",
    "# Heading 1\n",
    "## Heading 2\n",
    "### Heading 3\n",
    "#### Heading 4\n",
    "##### Heading 5\n"
   ]
  },
  {
   "cell_type": "markdown",
   "metadata": {},
   "source": [
    "---\n",
    "## 4. Formatting text"
   ]
  },
  {
   "cell_type": "markdown",
   "metadata": {},
   "source": [
    "#### Cell 4.1 Emphasis with bold and italics\n",
    "\n",
    "This is normal text\n",
    "\n",
    "*This is italic text*\n",
    "\n",
    "**This is bold text**\n",
    "\n",
    "This is ***bold italic*** text"
   ]
  },
  {
   "cell_type": "markdown",
   "metadata": {},
   "source": [
    "#### Cell 4.2 Horizontal rule  \n",
    "\n",
    "All sections in this document are separated by a horizontal rule, but here is one standing on its own:\n",
    "\n",
    "---"
   ]
  },
  {
   "cell_type": "markdown",
   "metadata": {},
   "source": [
    "#### Cell 4.3 Blockquotes\n",
    "\n",
    "This is an example of a blockquote, drawing on Jeff Hammerbacher's reflection on what many data scientists really do all day:\n",
    "\n",
    "> \"The best minds of my generation are thinking about how to make people click ads. That sucks.”\n",
    ">\n",
    "> \\- Jeff Hammerbacher 2011"
   ]
  },
  {
   "cell_type": "markdown",
   "metadata": {},
   "source": [
    "---\n",
    "## 5. Lists  \n"
   ]
  },
  {
   "cell_type": "markdown",
   "metadata": {},
   "source": [
    "#### Cell 5.1 Bullet list\n",
    "\n",
    "This is an example of a simple bulleted list showing the formations of the Brent group:\n",
    "\n",
    "- Tarbert\n",
    "- Ness\n",
    "- Etive\n",
    "- Rannoch\n",
    "- Broom "
   ]
  },
  {
   "cell_type": "markdown",
   "metadata": {},
   "source": [
    "\n",
    "#### Cell 5.2 Nested lists\n",
    "\n",
    "This is an example of nested bulleted lists showing the hierarchy of the Jurassic period, epochs, and stages:\n",
    "\n",
    "- Jurassic  \n",
    "    - Late\n",
    "        - Tithonian/Volgian\n",
    "        - Kimmeridgian\n",
    "        - Oxfordian\n",
    "    - Middle \n",
    "        - Callovian\n",
    "        - Bathonian\n",
    "        - Bajocian\n",
    "        - Aalenian\n",
    "    - Early \n",
    "        - Toarcian\n",
    "        - Pliensbachian\n",
    "        - Sinemurian\n",
    "        - Hettangian \n"
   ]
  },
  {
   "cell_type": "markdown",
   "metadata": {},
   "source": [
    "#### Cell 5.3 Nested numbered and bulleted lists\n",
    "\n",
    "This is an example that mixes numbered and bulleted lists. It shows a list of UKCS areas and the structural features in each area:\n",
    "\n",
    "1. West of Shetland  \n",
    "  \n",
    "1. Northern North Sea (North)\n",
    "    - East Shetland Basin  \n",
    "\n",
    "    - North Viking Graben  \n",
    "\n",
    "    - Horda Platform  \n",
    "  \n",
    "1. Northern North Sea (South)  \n",
    "    - East Shetland Platform  \n",
    "\n",
    "    - South Viking Graben  \n",
    "  \n",
    "1. Central North Sea  \n",
    "    - Greater Moray Firth  \n",
    "\n",
    "    - Central Graben  \n",
    "\n",
    "    - Norwegian Danish Basin   "
   ]
  },
  {
   "cell_type": "markdown",
   "metadata": {},
   "source": [
    "#### Cell 5.4 Task List\n",
    "\n",
    "A task list shows progress through a list of steps. This example of a task list shows the steps in a seismic processing sequence and their completion status:\n",
    "\n",
    "- [x] Demultiplex  \n",
    "\n",
    "- [x] Edit  \n",
    "\n",
    "- [x] Geometry  \n",
    "\n",
    "- [x] Antialias filter  \n",
    "\n",
    "- [x] Gain recovery  \n",
    "\n",
    "- [x] Deconvolution  \n",
    "\n",
    "- [x] Statics  \n",
    "\n",
    "- [x] Demultiple  \n",
    "\n",
    "- [x] f-k filter  \n",
    "\n",
    "- [ ] Normal moveout (NMO) correction  \n",
    "\n",
    "- [ ] Dip moveout (DMO) correction  \n",
    "\n",
    "- [ ] Common midpoint (CMP) stack  \n",
    "\n",
    "- [ ] Post stack filter  "
   ]
  },
  {
   "cell_type": "markdown",
   "metadata": {},
   "source": [
    "---\n",
    "## 6. Code Snippets"
   ]
  },
  {
   "cell_type": "markdown",
   "metadata": {},
   "source": [
    "#### Cell 6.1 Simple code snippet\n",
    "\n",
    "Kernighan and Ritchie popularized the idea that the first program you need to master in any language is one that prints *hello world*. Once you know how to do that everything else is easy (or so they claim).  \n",
    "\n",
    "This example of a code snippet shows how to write that *hello world* program in Python: `print('hello world')`  \n",
    "\n",
    "Code snippets are also a good way to refer to variable names appearing in code cells. For example, `GR`, `CALI`, `DTC` could be the names of variables assigned to log curves in a petrophysical dataset."
   ]
  },
  {
   "cell_type": "markdown",
   "metadata": {},
   "source": [
    "#### Cell 6.2 Fenced code snippet  \n",
    "\n",
    "This example of a fenced code snippet shows a slightly more sophisticated version of *hello world* using a variable called `msg` for the greeting string: \n",
    "\n",
    "```python\n",
    "msg = 'hello world'  \n",
    "print(msg)\n",
    "```\n",
    "\n",
    "The optional *python* keyword appearing in the Markdown of the previous example is a hint to Markdown to apply the appropriate syntax highlighting for Python code.\n",
    "\n",
    "The other syntax highlighting option is the *json* keyword for JavaScript Object Notation (JSON) code. Don't panic if you don't know what that means, we will cover it later in the course, but in a nutshell it's a standard for representing and exchanging data in plain text. This is an example of a fenced JSON code snippet:\n",
    "\n",
    "```json\n",
    "{\n",
    "  \"type\": \"Feature\",\n",
    "  \"properties\": {\n",
    "    \"QUAD_NO\": \"211\",\n",
    "    \"PDF_MAP\": \"https://itportal.decc.gov.uk/web_files/gis/quadmaps/Q_211\",\n",
    "    \"OBJECTID_1\": 65\n",
    "  },\n",
    "  \"geometry\": {\n",
    "    \"type\": \"Polygon\",\n",
    "    \"coordinates\": [\n",
    "      [\n",
    "        [1.9982818986403073, 60.99949536431107],\n",
    "        [0.9982522486610188, 60.999482839645964],\n",
    "        [0.9981966491525839, 61.99952221738495],\n",
    "        [1.9982272663093934, 61.999534859459764],\n",
    "        [1.9982818986403073, 60.99949536431107]\n",
    "      ]\n",
    "    ]\n",
    "  }\n",
    "}\n",
    "```\n",
    "\n",
    "which is drawn from data made available by the UK Oil and Gas Authority. It represents information about quadrant 211 in the Northern North Sea, including the boundary polygon."
   ]
  },
  {
   "cell_type": "markdown",
   "metadata": {},
   "source": [
    "---\n",
    "## 7. Links\n",
    "\n",
    "You can insert links to files, websites, and email contacts. "
   ]
  },
  {
   "cell_type": "markdown",
   "metadata": {},
   "source": [
    "#### Cell 7.1 Links to files  \n",
    "\n",
    "You can add links that open a local file in an new editor window. This can be a convenient way to refer to external information without having to leave your notebook environment.  \n",
    "\n",
    "This is an example of making a link that will open an image file:  \n",
    "\n",
    "[Click here to open an image.](./images/marble-grand-antique.png)  \n",
    "\n",
    "In the above example, `./images/marble-grand-antique.png` is the relative path to the file from the folder containing this notebook."
   ]
  },
  {
   "cell_type": "markdown",
   "metadata": {},
   "source": [
    "#### Cell 7.2 Links to websites\n",
    "This is an example of linking to a website: [analyticsignal.com](https://www.analyticsignal.com).  \n",
    "\n",
    "Click the link to open the website in a browser. You may be asked to grant permission to access an external website, if you wish to proceed click *Open*.\n",
    "\n",
    "Markdown text that includes `http` or `https` is automatically turned into a link: https://www.analyticsignal.com"
   ]
  },
  {
   "cell_type": "markdown",
   "metadata": {},
   "source": [
    "#### Cell 7.3 Links to email addresses\n",
    "\n",
    "This is an example of linking to an email address:\n",
    "\n",
    "For help and support contact: <support@analyticsignal.com>\n",
    "\n",
    "That's a live email address which you are invited to use if you have any questions about this course. Just click the link to send an email."
   ]
  },
  {
   "cell_type": "markdown",
   "metadata": {},
   "source": [
    "---\n",
    "## 8. Embedding external webpages"
   ]
  },
  {
   "cell_type": "markdown",
   "metadata": {},
   "source": [
    "\n",
    "You can go beyond inserting links to useful websites and embed a webpage directly inside a Markdown cell. Embedding a webpage is a convenient way to refer to external information without having to leave your notebook environment. If you view the Markdown for these examples you can see how external HTML webpages are embedded using the `<iframe>` tag.\n",
    "\n",
    "Here are some examples of embedded webpages:"
   ]
  },
  {
   "cell_type": "markdown",
   "metadata": {},
   "source": [
    "#### Cell 8.1 Microseismic monitoring of hydraulic fracturing operations\n",
    "In this example, the webpage is an animated heatmap of microseismic events associated with hydraulic fracturing operations hosted on a web server. Use the play button and slider control to step through the microseismic events associated with each stage of the hydraulic fracturing operations. You can also pan, zoom, hover for more information, and peel away map layers by clicking items in the map legend. \n",
    "\n",
    "<iframe src=\"https://analyticsignal.com/visualization/microseismic-heatmap-animation.html\" width=\"100%\" height=\"600\" frameborder=\"0\"></iframe>\n",
    "\n",
    "**How to understand the embedding code**   \n",
    "\n",
    "Here's the code that embeds this basemap:  \n",
    "\n",
    "> `<iframe src=\"https://analyticsignal.com/visualization/microseismic-heatmap-animation.html\" width=\"100%\" height=\"600\" frameborder=\"0\"></iframe>`\n",
    "\n",
    "The important elements of this code are:\n",
    "\n",
    "`<iframe src=...></iframe>`  \n",
    "An `iframe` is a HTML element that represents the embedded web page.\n",
    "\n",
    "`src`  \n",
    "The link to the external web page to be embedded.  \n",
    "\n",
    "`width`   \n",
    "The width of the embedded display expressed as a percentage of the document width. Use `100%` to fit to the width of the document.\n",
    "\n",
    "`height`  \n",
    "The height of the embedded display expressed in pixels.\n",
    "\n",
    "`frameborder`  \n",
    "The width of the border surrounding the embedded web page. Use `0` to hide the border completely.\n",
    "\n"
   ]
  },
  {
   "cell_type": "markdown",
   "metadata": {},
   "source": [
    "#### Cell 8.2 Production history\n",
    "Here's another example of embedding a webpage showing production data from the Brent field in the UK Northern North Sea. Like the previous microseismic example, you can pan, zoom, hover for more information, and peel away production series by clicking items in the legend. You can also focus on a particular time interval using the range slider controls.  \n",
    "\n",
    "<iframe src=\"https://www.analyticsignal.com/visualization/ukcs-production-brent.html\" width=\"100%\" height=\"600\" frameborder=\"0\"></iframe>\n",
    "\n"
   ]
  },
  {
   "cell_type": "markdown",
   "metadata": {},
   "source": [
    "---\n",
    "## 9. Embedding Microsoft Office documents from OneDrive storage "
   ]
  },
  {
   "cell_type": "markdown",
   "metadata": {},
   "source": [
    "\n",
    "> **Note**: You can skip this section if you don't have a Microsoft OneDrive account. \n",
    "\n",
    "It's simple to embed a Microsoft Office document like an Excel spreadsheet (`.xlsx`) in Markdown if you have the file stored on OneDrive. Embedding an Office document is a convenient way to refer to external information without having to leave your notebook environment.\n",
    "\n",
    "These documents are embedded using the method seen in the previous cells that uses an `iframe` HTML element. The main difference is that the `src` link is generated from a OneDrive account (see below for instructions on how to do this). \n"
   ]
  },
  {
   "cell_type": "markdown",
   "metadata": {},
   "source": [
    "#### Cell 9.1 UKCS Well Headers Spreadsheet \n",
    "This example shows an Excel spreadsheet of UK well headers from over 12,000 offshore wells, from a live connection to a file hosted on OneDrive storage. The same approach also works for other Microsoft Office document types like Powerpoint presentations.\n",
    "\n",
    "#### Using the spreadsheet\n",
    "\n",
    "The spreadsheet view provides basic features for viewing, sorting, and making selections as follows:\n",
    "\n",
    "- Sort the spreadsheet according to the values of one of its columns. Right-click on a column and choose *Sort > Sort Ascending* or *Sort Descending*.  \n",
    "\n",
    "- Make a selection across multiple columns and/or rows. Right-click and choose *Copy* to obtain a copy of the selection in your clipboard.  \n",
    "  \n",
    "- Use the *Download* button at bottom right of the spreadsheet view to copy the document to your local machine.\n",
    "\n",
    "<iframe width=\"100%\" height=\"700\" frameborder=\"0\" scrolling=\"no\" src=\"https://onedrive.live.com/embed?resid=5A4F674C67B07B17%21365&authkey=%21ADAGF3L7rxEjd0w&em=2&wdDownloadButton=True&wdInConfigurator=True\"></iframe>\n",
    "\n",
    "*Contains information provided by the Oil &amp; Gas Authority.*\n",
    "\n",
    "Here's the code that embeds this spreadsheet:\n",
    "\n",
    "`<iframe width=\"100%\" height=\"700\" frameborder=\"0\" scrolling=\"no\" src=\"https://onedrive.live.com/embed?resid=5A4F674C67B07B17%21365&authkey=%21ADAGF3L7rxEjd0w&em=2&wdDownloadButton=True&wdInConfigurator=True\"></iframe>`\n",
    "\n",
    "Note that the `src` link is quite complex and represents the embedding code generated in OneDrive.\n",
    "\n",
    "**How to generate your own embedding code**  \n",
    "\n",
    "If you have access to a OneDrive account, it's simple to generate a code that allows you to embed an Office document:  \n",
    "\n",
    "1. In your OneDrive files, right-click on the file and choose the *Embed* option.  \n",
    "\n",
    "2. Copy the resulting embedding code.  \n",
    "\n",
    "3. Paste the embedding code into the `src` value of an `iframe` as shown in the example above.  \n",
    "\n",
    "The Markdown preview should now display the embedded document.\n"
   ]
  },
  {
   "cell_type": "markdown",
   "metadata": {},
   "source": [
    "---\n",
    "## 10. Images"
   ]
  },
  {
   "cell_type": "markdown",
   "metadata": {},
   "source": [
    "#### Cell 10.1 PNG format images\n",
    "\n",
    "This is an example of a PNG format image embedded from a (`.png`) file. \n",
    "\n",
    "![an example image](images/marble-grand-antique.png \"Grand Antique Marble\")  \n",
    "*Tectonic breccia of Late Cretaceous age from the Northern Pyrenees. As a decorative stone highly prized since antiquity, it's known as Grand Antique marble.*"
   ]
  },
  {
   "cell_type": "markdown",
   "metadata": {},
   "source": [
    "#### Cell 10.2 JPEG format images\n",
    "\n",
    "JPEG format images can be embedded from a (`.jpg`) file. \n",
    "\n",
    "![an example image](images/lower-carb-ssts.jpg \"Lower Carboniferous Sandstones\")  \n",
    "*Lower Carboniferous fluvial sandstones of the Maam Formation exposed on the Northern shores of Clew Bay, County Mayo. For scale the top of the cliff face is approximately 6m above the sea.* \n",
    "\n",
    "**Note**: JPEG format, of which the image shown in this cell is an example, is not the same as JPEG-2000 format. Standard JPEG images are much more common and easier to display compared to JPEG-2000."
   ]
  },
  {
   "cell_type": "markdown",
   "metadata": {},
   "source": [
    "#### Cell 10.3 GIF format images\n",
    "\n",
    "GIF format images (static or animated) can be embedded from a (`.gif`) file.  \n",
    "\n",
    "![an example image](images/logs-scatter2d.gif \"Animated log data scatterplot\")  \n",
    "*Animation of `DT`-`RHOB` relationships in the Lower Tertiary formations from well 15/20-2 in the UK Central North Sea.*"
   ]
  },
  {
   "cell_type": "markdown",
   "metadata": {},
   "source": [
    "---\n",
    "## 11. Tables"
   ]
  },
  {
   "cell_type": "markdown",
   "metadata": {},
   "source": [
    "#### Cell 11.1 Table of textual data\n",
    "\n",
    "One of the main uses of a table is to present textual data as shown in this example:  \n",
    "\n",
    "| Well No. | Spud Date | Completion Status | License No. | License Type | Operator |\n",
    "| -: | - | :- | - | :-: | - |\n",
    "| 23/16b- 14 | 2020/08/20 | Drilling            | P359  | Production | SHELL U.K. LIMITED |\n",
    "| 23/16b- 13 | 2020/08/15 | Plugged\t            | P359  | Production | SHELL U.K. LIMITED  |\n",
    "| 9/19b- 28\t | 2020/07/29 | Abandoned Phase 2   | P1986 | Production | APACHE BERYL I LIMITED |\n",
    "| 3/03-C63\t | 1999/04/29 | Abandoned Phase 1   | P202  | Production | CNR INTERNATIONAL (U.K.) LIMITED |\n",
    "| 3/03-C95\t | 2018/05/07 | Completed (Shut In) | P202  | Production | CNR INTERNATIONAL (U.K.) LIMITED |\n",
    "| 48/30- 7\t | 1968/06/30 | Abandoned Phase 3   | P28\t| Production | ENI ENERGY LIMITED |\n",
    "| 48/17b- 3\t | 1986/07/05 | Abandoned Phase 2   | P463  | Production | PERENCO UK LIMITED |\n",
    "| 9/11a-A2\t | 2017/02/13 | Drilling            | P335  | Production | EQUINOR UK LIMITED |\n",
    "| 49/21-R12\t | 1998/08/19 | Plugged             | P39   | Production | CHRYSAOR PRODUCTION (U.K.) LIMITED |\n",
    "\n",
    "Table cells are delimited by the `|` character.  \n",
    "\n",
    "The first line of Markdown defines the column headings and alignment of the column content is controlled as follows: `-:` align right, `:-` align left, `:-:` align center."
   ]
  },
  {
   "cell_type": "markdown",
   "metadata": {},
   "source": [
    "#### Cell 11.2 Table of text and images\n",
    "\n",
    "Tables can also be used to present other types of data, like the table of seismic attribute images shown in this example:  \n",
    "\n",
    "| Attribute | Example |\n",
    "| - | - |\n",
    "| Amplitude | ![An amplitude section](./images/esp-amplitude.png \"Amplitude\") | \n",
    "| Instantaneous Phase  | ![An instantaneous phase section](./images/esp-instphase.png \"Instantaneous Phase\") |   \n",
    "| Reflection Strength  | ![A reflection strength section](./images/esp-reflstr.png \"Reflection Strength\") | \n",
    "\n",
    "*Contains information provided by the Oil &amp; Gas Authority.*"
   ]
  },
  {
   "cell_type": "markdown",
   "metadata": {},
   "source": [
    "---\n",
    "## 12. Equations"
   ]
  },
  {
   "cell_type": "markdown",
   "metadata": {},
   "source": [
    "\n",
    "Using equations in a notebook is often a good way to show that you've thought about framing the problem that you're trying to solve. \n",
    "In addition, nicely typeset equations tend to add scientific credibility to your work even if you don't have a strong maths background. \n",
    "But be careful, or people will start to think you're a real mathematician! \n",
    "\n",
    "There are two ways to display mathematical equations in Markdown cells:  "
   ]
  },
  {
   "cell_type": "markdown",
   "metadata": {},
   "source": [
    "#### Cell 12.1 Inline equations  \n",
    "\n",
    "*Inline equations* are displayed directly within the text, like this example $V_{s} = -0.8559 + 0.8402V_{p}$ which rock physicists may recognize as the Castagna *et al.* (1985) 'mudrock' line for shear velocity prediction. \n"
   ]
  },
  {
   "cell_type": "markdown",
   "metadata": {},
   "source": [
    "#### Cell 12.2 Block equations  \n",
    "\n",
    "*Block equations* are displayed in a seperate block independent of the surrounding text.  \n",
    "\n",
    "This is an example of a block equation:\n",
    "\n",
    "$$q(t) = \\frac{q_{i}}{ \\left( 1 + b D_{i} t \\right) ^{1/b} }$$\n",
    "\n",
    "which reservoir engineers may recognize as the hyperbolic decline curve equation for production forecasting.\n",
    "\n",
    "Equations can be nested inside other Markdown elements, for example here is a block equation nested inside a block quote: \n",
    "\n",
    "> $$ S_{w} = \\left( \\frac{R_{w}}{\\phi^{m}\\times R_{t}} \\right)^{1/n} $$\n",
    "\n",
    "which petrophysicists will recognize as Archie's equation for water saturation prediction from resistivity logs."
   ]
  },
  {
   "cell_type": "markdown",
   "metadata": {},
   "source": [
    "---\n",
    "## 13. Further reading "
   ]
  },
  {
   "cell_type": "markdown",
   "metadata": {},
   "source": [
    "\n",
    "These suggestions for further reading are optional.\n",
    "    \n",
    "#### Markdown\n",
    "To learn more about the syntax of Markdown and the tools that support it, take a look at [markdownguide.org](https://www.markdownguide.org). There's a handy [cheat sheet](https://www.markdownguide.org/cheat-sheet/), comprehensive information on the [basic syntax](https://www.markdownguide.org/basic-syntax/), and the more advanced features offered by the [extended syntax](https://www.markdownguide.org/extended-syntax/).  \n",
    "\n",
    "#### Equations\n",
    "The syntax for formatting equations in Markdown follows that of LaTeX, a typesetting system popular in the scientific community. Further reading on the subject is way beyond the scope of this course, but for those who simply must know more, section 3.3 of the book by Lamport describes everything you'll ever need to know, and there are also many resources available online.  \n",
    "    \n",
    "      \n",
    "Leslie Lamport (1994) *LaTeX: A Document Preparation System* (2nd edition), Addison Wesley."
   ]
  },
  {
   "cell_type": "markdown",
   "metadata": {},
   "source": [
    "---\n",
    "essential-data-science-2025/workshop-toolkit-markdown.ipynb  \n",
    "Copyright &copy; 2020-2025 Analytic Signal Limited, all rights reserved "
   ]
  }
 ],
 "metadata": {
  "file_extension": ".py",
  "interpreter": {
   "hash": "725412f23884018f9b75d8bef97f0b548c67cb67da0ad1d874164e2bc46a8fff"
  },
  "kernelspec": {
   "display_name": "Python 3.9.5 64-bit",
   "language": "python",
   "name": "python3"
  },
  "language_info": {
   "name": "python",
   "version": "3.9.13"
  },
  "metadata": {
   "interpreter": {
    "hash": "aee8b7b246df8f9039afb4144a1f6fd8d2ca17a180786b69acc140d282b71a49"
   }
  },
  "mimetype": "text/x-python",
  "name": "python",
  "npconvert_exporter": "python",
  "pygments_lexer": "ipython3",
  "version": 3
 },
 "nbformat": 4,
 "nbformat_minor": 2
}
